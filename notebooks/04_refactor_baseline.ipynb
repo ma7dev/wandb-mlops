{
 "cells": [
  {
   "cell_type": "markdown",
   "metadata": {},
   "source": [
    "<a href=\"https://colab.research.google.com/github/wandb/edu/blob/main/mlops-001/lesson2/04_refactor_baseline.ipynb\" target=\"_parent\"><img src=\"https://colab.research.google.com/assets/colab-badge.svg\" alt=\"Open In Colab\"/></a>\n",
    "<!--- @wandbcode{course-lesson2} -->"
   ]
  },
  {
   "cell_type": "markdown",
   "id": "6cec1a21",
   "metadata": {},
   "source": [
    "# Refactor of Baseline Model\n",
    "<!--- @wandbcode{course-lesson2} -->\n",
    "\n",
    "The same code as in the previous notebook, but refactored into a small functions. This will be useful for the hyperparameter tuning."
   ]
  },
  {
   "cell_type": "code",
   "execution_count": 1,
   "id": "29116dec",
   "metadata": {},
   "outputs": [],
   "source": [
    "import wandb\n",
    "import pandas as pd\n",
    "import torchvision.models as tvmodels\n",
    "from fastai.vision.all import *\n",
    "from fastai.callback.wandb import WandbCallback\n",
    "\n",
    "import src.params as params\n",
    "from src.utils import get_predictions, create_iou_table, MIOU, BackgroundIOU, \\\n",
    "                  RoadIOU, TrafficLightIOU, TrafficSignIOU, PersonIOU, VehicleIOU, BicycleIOU"
   ]
  },
  {
   "cell_type": "code",
   "execution_count": 2,
   "id": "cff6b8ee",
   "metadata": {},
   "outputs": [],
   "source": [
    "train_config = SimpleNamespace(\n",
    "    framework=\"fastai\",\n",
    "    img_size=(180, 320),\n",
    "    batch_size=8,\n",
    "    augment=True, # use data augmentation\n",
    "    epochs=10, \n",
    "    lr=2e-3,\n",
    "    arch=\"resnet18\",\n",
    "    pretrained=True,  # whether to use pretrained encoder\n",
    "    seed=42,\n",
    "    log_preds=True,\n",
    ")"
   ]
  },
  {
   "cell_type": "code",
   "execution_count": 3,
   "id": "954c2bb4-4d69-4dc4-9653-26cbc13ba509",
   "metadata": {},
   "outputs": [],
   "source": [
    "def download_data():\n",
    "    # download artifacts\n",
    "    processed_data_at = wandb.use_artifact(f'{params.PROCESSED_DATA_AT}:latest')\n",
    "    processed_dataset_dir = Path(processed_data_at.download())\n",
    "    return processed_dataset_dir"
   ]
  },
  {
   "cell_type": "code",
   "execution_count": 4,
   "id": "65ae3d60",
   "metadata": {},
   "outputs": [],
   "source": [
    "def label_func(fname):\n",
    "    return (fname.parent.parent/\"labels\")/f\"{fname.stem}_mask.png\""
   ]
  },
  {
   "cell_type": "code",
   "execution_count": 5,
   "id": "0010b696-eb6a-402e-9d3e-98c20a7deb62",
   "metadata": {},
   "outputs": [],
   "source": [
    "def get_df(processed_dataset_dir, is_test=False):\n",
    "    df = pd.read_csv(processed_dataset_dir / 'data_split.csv')\n",
    "    \n",
    "    if not is_test:\n",
    "        df = df[df.Stage != 'test'].reset_index(drop=True)\n",
    "        df['is_valid'] = df.Stage == 'valid'\n",
    "    else:\n",
    "        df = df[df.Stage == 'test'].reset_index(drop=True)\n",
    "        \n",
    "    \n",
    "    # assign paths\n",
    "    df[\"image_fname\"] = [processed_dataset_dir/f'images/{f}' for f in df.File_Name.values]\n",
    "    df[\"label_fname\"] = [label_func(f) for f in df.image_fname.values]\n",
    "    return df"
   ]
  },
  {
   "cell_type": "code",
   "execution_count": 6,
   "id": "4268334e",
   "metadata": {},
   "outputs": [],
   "source": [
    "def get_data(df, bs=4, img_size=(180, 320), augment=True):\n",
    "    block = DataBlock(blocks=(ImageBlock, MaskBlock(codes=params.BDD_CLASSES)),\n",
    "                  get_x=ColReader(\"image_fname\"),\n",
    "                  get_y=ColReader(\"label_fname\"),\n",
    "                  splitter=ColSplitter(),\n",
    "                  item_tfms=Resize(img_size),\n",
    "                  batch_tfms=aug_transforms() if augment else None,\n",
    "                 )\n",
    "    return block.dataloaders(df, bs=bs)"
   ]
  },
  {
   "cell_type": "code",
   "execution_count": 7,
   "id": "387dc2d8",
   "metadata": {},
   "outputs": [],
   "source": [
    "def log_predictions(learn):\n",
    "    \"Log a Table with model predictions\"\n",
    "    samples, outputs, predictions = get_predictions(learn)\n",
    "    table = create_iou_table(samples, outputs, predictions, params.BDD_CLASSES)\n",
    "    wandb.log({\"pred_table\":table})"
   ]
  },
  {
   "cell_type": "code",
   "execution_count": 8,
   "id": "d6ec120e",
   "metadata": {},
   "outputs": [],
   "source": [
    "def log_final_metrics(learn):\n",
    "    scores = learn.validate()\n",
    "    metric_names = ['final_loss'] + [f'final_{x.name}' for x in learn.metrics]\n",
    "    final_results = {metric_names[i] : scores[i] for i in range(len(scores))}\n",
    "    for k,v in final_results.items(): \n",
    "        wandb.summary[k] = v"
   ]
  },
  {
   "cell_type": "code",
   "execution_count": 9,
   "id": "f4dd39ae-3b74-4c72-bb83-02e0ad68a96b",
   "metadata": {},
   "outputs": [],
   "source": [
    "def train(config):\n",
    "    set_seed(config.seed, reproducible=True)\n",
    "    run = wandb.init(project=params.WANDB_PROJECT, entity=params.ENTITY, job_type=\"training\", config=config)\n",
    "\n",
    "    config = wandb.config\n",
    "    \n",
    "    processed_dataset_dir = download_data()\n",
    "    df = get_df(processed_dataset_dir)\n",
    "    \n",
    "    dls = get_data(df, bs=config.batch_size, img_size=config.img_size, augment=config.augment)\n",
    "\n",
    "    metrics = [MIOU(), BackgroundIOU(), RoadIOU(), TrafficLightIOU(), \\\n",
    "               TrafficSignIOU(), PersonIOU(), VehicleIOU(), BicycleIOU()]\n",
    "\n",
    "    learn = unet_learner(dls, arch=getattr(tvmodels, config.arch), pretrained=config.pretrained, metrics=metrics)\n",
    "\n",
    "    callbacks = [\n",
    "        SaveModelCallback(monitor='miou'),\n",
    "        WandbCallback(log_preds=False, log_model=True)\n",
    "    ]\n",
    "\n",
    "    learn.fit_one_cycle(config.epochs, config.lr, cbs=callbacks)\n",
    "    \n",
    "    if config.log_preds:\n",
    "        log_predictions(learn)\n",
    "        \n",
    "    log_final_metrics(learn)\n",
    "\n",
    "    wandb.finish()"
   ]
  },
  {
   "cell_type": "markdown",
   "id": "77a8eaf3-a416-442d-b5c3-6e8a2bcf7b55",
   "metadata": {},
   "source": [
    "## Run the training"
   ]
  },
  {
   "cell_type": "code",
   "execution_count": 10,
   "id": "24a789d6-ca7b-4709-9370-d36ae60d2c89",
   "metadata": {},
   "outputs": [
    {
     "name": "stderr",
     "output_type": "stream",
     "text": [
      "Failed to detect the name of this notebook, you can set it manually with the WANDB_NOTEBOOK_NAME environment variable to enable code saving.\n",
      "\u001b[34m\u001b[1mwandb\u001b[0m: Currently logged in as: \u001b[33msudomaze\u001b[0m. Use \u001b[1m`wandb login --relogin`\u001b[0m to force relogin\n"
     ]
    },
    {
     "data": {
      "text/html": [
       "Tracking run with wandb version 0.15.0"
      ],
      "text/plain": [
       "<IPython.core.display.HTML object>"
      ]
     },
     "metadata": {},
     "output_type": "display_data"
    },
    {
     "data": {
      "text/html": [
       "Run data is saved locally in <code>/home/mazen/Projects/github/wandb-mlops/notebooks/wandb/run-20230426_225920-ktelieuk</code>"
      ],
      "text/plain": [
       "<IPython.core.display.HTML object>"
      ]
     },
     "metadata": {},
     "output_type": "display_data"
    },
    {
     "data": {
      "text/html": [
       "Syncing run <strong><a href='https://wandb.ai/sudomaze/mlops-course-001/runs/ktelieuk' target=\"_blank\">sleek-valley-5</a></strong> to <a href='https://wandb.ai/sudomaze/mlops-course-001' target=\"_blank\">Weights & Biases</a> (<a href='https://wandb.me/run' target=\"_blank\">docs</a>)<br/>"
      ],
      "text/plain": [
       "<IPython.core.display.HTML object>"
      ]
     },
     "metadata": {},
     "output_type": "display_data"
    },
    {
     "data": {
      "text/html": [
       " View project at <a href='https://wandb.ai/sudomaze/mlops-course-001' target=\"_blank\">https://wandb.ai/sudomaze/mlops-course-001</a>"
      ],
      "text/plain": [
       "<IPython.core.display.HTML object>"
      ]
     },
     "metadata": {},
     "output_type": "display_data"
    },
    {
     "data": {
      "text/html": [
       " View run at <a href='https://wandb.ai/sudomaze/mlops-course-001/runs/ktelieuk' target=\"_blank\">https://wandb.ai/sudomaze/mlops-course-001/runs/ktelieuk</a>"
      ],
      "text/plain": [
       "<IPython.core.display.HTML object>"
      ]
     },
     "metadata": {},
     "output_type": "display_data"
    },
    {
     "name": "stderr",
     "output_type": "stream",
     "text": [
      "\u001b[34m\u001b[1mwandb\u001b[0m: Downloading large artifact bdd_simple_1k_split:latest, 846.07MB. 4010 files... \n",
      "\u001b[34m\u001b[1mwandb\u001b[0m:   4010 of 4010 files downloaded.  \n",
      "Done. 0:0:0.9\n",
      "/home/mazen/miniconda3/envs/env_wandb_mlops/lib/python3.9/site-packages/torchvision/models/_utils.py:208: UserWarning: The parameter 'pretrained' is deprecated since 0.13 and may be removed in the future, please use 'weights' instead.\n",
      "  warnings.warn(\n",
      "/home/mazen/miniconda3/envs/env_wandb_mlops/lib/python3.9/site-packages/torchvision/models/_utils.py:223: UserWarning: Arguments other than a weight enum or `None` for 'weights' are deprecated since 0.13 and may be removed in the future. The current behavior is equivalent to passing `weights=ResNet18_Weights.IMAGENET1K_V1`. You can also use `weights=ResNet18_Weights.DEFAULT` to get the most up-to-date weights.\n",
      "  warnings.warn(msg)\n"
     ]
    },
    {
     "data": {
      "text/html": [
       "Waiting for W&B process to finish... <strong style=\"color:green\">(success).</strong>"
      ],
      "text/plain": [
       "<IPython.core.display.HTML object>"
      ]
     },
     "metadata": {},
     "output_type": "display_data"
    },
    {
     "data": {
      "text/html": [
       "<style>\n",
       "    table.wandb td:nth-child(1) { padding: 0 10px; text-align: left ; width: auto;} td:nth-child(2) {text-align: left ; width: 100%}\n",
       "    .wandb-row { display: flex; flex-direction: row; flex-wrap: wrap; justify-content: flex-start; width: 100% }\n",
       "    .wandb-col { display: flex; flex-direction: column; flex-basis: 100%; flex: 1; padding: 10px; }\n",
       "    </style>\n",
       "<div class=\"wandb-row\"><div class=\"wandb-col\"><h3>Run history:</h3><br/><table class=\"wandb\"><tr><td>background_iou</td><td>▁▂▁▄▃▆▇▇██</td></tr><tr><td>bicycle_iou</td><td>▁▁▁▁▁▁▁▁▁▁</td></tr><tr><td>epoch</td><td>▁▁▁▂▂▂▂▂▂▃▃▃▃▃▄▄▄▄▄▄▅▅▅▅▅▅▆▆▆▆▆▇▇▇▇▇▇███</td></tr><tr><td>eps_0</td><td>▁▁▁▁▁▁▁▁▁▁▁▁▁▁▁▁▁▁▁▁▁▁▁▁▁▁▁▁▁▁▁▁▁▁▁▁▁▁▁▁</td></tr><tr><td>eps_1</td><td>▁▁▁▁▁▁▁▁▁▁▁▁▁▁▁▁▁▁▁▁▁▁▁▁▁▁▁▁▁▁▁▁▁▁▁▁▁▁▁▁</td></tr><tr><td>eps_2</td><td>▁▁▁▁▁▁▁▁▁▁▁▁▁▁▁▁▁▁▁▁▁▁▁▁▁▁▁▁▁▁▁▁▁▁▁▁▁▁▁▁</td></tr><tr><td>lr_0</td><td>▁▂▂▃▄▅▆▇███████▇▇▇▇▆▆▆▅▅▅▄▄▄▃▃▃▂▂▂▁▁▁▁▁▁</td></tr><tr><td>lr_1</td><td>▁▂▂▃▄▅▆▇███████▇▇▇▇▆▆▆▅▅▅▄▄▄▃▃▃▂▂▂▁▁▁▁▁▁</td></tr><tr><td>lr_2</td><td>▁▂▂▃▄▅▆▇███████▇▇▇▇▆▆▆▅▅▅▄▄▄▃▃▃▂▂▂▁▁▁▁▁▁</td></tr><tr><td>miou</td><td>▁▁▂▂▃▅▇▆██</td></tr><tr><td>mom_0</td><td>██▇▆▅▄▃▂▁▁▁▁▁▁▁▂▂▂▂▃▃▃▄▄▄▅▅▅▆▆▆▇▇▇██████</td></tr><tr><td>mom_1</td><td>██▇▆▅▄▃▂▁▁▁▁▁▁▁▂▂▂▂▃▃▃▄▄▄▅▅▅▆▆▆▇▇▇██████</td></tr><tr><td>mom_2</td><td>██▇▆▅▄▃▂▁▁▁▁▁▁▁▂▂▂▂▃▃▃▄▄▄▅▅▅▆▆▆▇▇▇██████</td></tr><tr><td>person_iou</td><td>▁▁▁▁▁▁▁▁▁▁</td></tr><tr><td>raw_loss</td><td>█▆▅▃▃▃▃▃▃▃▃▃▂▄▃▃▂▂▂▁▁▁▂▂▂▂▂▂▂▂▁▁▁▁▁▂▁▂▁▁</td></tr><tr><td>road_iou</td><td>▁▁▂▃▂▆▇███</td></tr><tr><td>sqr_mom_0</td><td>▁▁▁▁▁▁▁▁▁▁▁▁▁▁▁▁▁▁▁▁▁▁▁▁▁▁▁▁▁▁▁▁▁▁▁▁▁▁▁▁</td></tr><tr><td>sqr_mom_1</td><td>▁▁▁▁▁▁▁▁▁▁▁▁▁▁▁▁▁▁▁▁▁▁▁▁▁▁▁▁▁▁▁▁▁▁▁▁▁▁▁▁</td></tr><tr><td>sqr_mom_2</td><td>▁▁▁▁▁▁▁▁▁▁▁▁▁▁▁▁▁▁▁▁▁▁▁▁▁▁▁▁▁▁▁▁▁▁▁▁▁▁▁▁</td></tr><tr><td>traffic_light_iou</td><td>▁▁▁▁▁▁▇▁█▇</td></tr><tr><td>traffic_sign_iou</td><td>▁▁▁▁▁▁▁▁█▂</td></tr><tr><td>train_loss</td><td>█▅▄▃▃▃▂▂▂▂▂▂▂▂▂▂▂▂▂▂▂▂▁▁▁▁▁▁▁▁▁▁▁▁▁▁▁▁▁▁</td></tr><tr><td>train_samples_per_sec</td><td>████▇█▇▇█▇▇▂▅▁▃▁▂▂▃▃▁▇▆▇▆▇█▅▇▅▇▁▇▇▁▅▇▇▂▇</td></tr><tr><td>valid_loss</td><td>▇█▆▄▆▂▁▂▁▁</td></tr><tr><td>vehicle_iou</td><td>▁▂▄▃▅▇▇▇██</td></tr><tr><td>wd_0</td><td>▁▁▁▁▁▁▁▁▁▁▁▁▁▁▁▁▁▁▁▁▁▁▁▁▁▁▁▁▁▁▁▁▁▁▁▁▁▁▁▁</td></tr><tr><td>wd_1</td><td>▁▁▁▁▁▁▁▁▁▁▁▁▁▁▁▁▁▁▁▁▁▁▁▁▁▁▁▁▁▁▁▁▁▁▁▁▁▁▁▁</td></tr><tr><td>wd_2</td><td>▁▁▁▁▁▁▁▁▁▁▁▁▁▁▁▁▁▁▁▁▁▁▁▁▁▁▁▁▁▁▁▁▁▁▁▁▁▁▁▁</td></tr></table><br/></div><div class=\"wandb-col\"><h3>Run summary:</h3><br/><table class=\"wandb\"><tr><td>background_iou</td><td>0.92174</td></tr><tr><td>bicycle_iou</td><td>0.0</td></tr><tr><td>epoch</td><td>10</td></tr><tr><td>eps_0</td><td>1e-05</td></tr><tr><td>eps_1</td><td>1e-05</td></tr><tr><td>eps_2</td><td>1e-05</td></tr><tr><td>final_background_iou</td><td>0.92074</td></tr><tr><td>final_bicycle_iou</td><td>0.0</td></tr><tr><td>final_loss</td><td>0.22466</td></tr><tr><td>final_miou</td><td>0.37377</td></tr><tr><td>final_person_iou</td><td>0.0</td></tr><tr><td>final_road_iou</td><td>0.84823</td></tr><tr><td>final_traffic_light_iou</td><td>0.09805</td></tr><tr><td>final_traffic_sign_iou</td><td>0.0004</td></tr><tr><td>final_vehicle_iou</td><td>0.74901</td></tr><tr><td>lr_0</td><td>0.0</td></tr><tr><td>lr_1</td><td>0.0</td></tr><tr><td>lr_2</td><td>0.0</td></tr><tr><td>miou</td><td>0.37215</td></tr><tr><td>mom_0</td><td>0.95</td></tr><tr><td>mom_1</td><td>0.95</td></tr><tr><td>mom_2</td><td>0.95</td></tr><tr><td>person_iou</td><td>0.0</td></tr><tr><td>raw_loss</td><td>0.11646</td></tr><tr><td>road_iou</td><td>0.8493</td></tr><tr><td>sqr_mom_0</td><td>0.99</td></tr><tr><td>sqr_mom_1</td><td>0.99</td></tr><tr><td>sqr_mom_2</td><td>0.99</td></tr><tr><td>traffic_light_iou</td><td>0.08341</td></tr><tr><td>traffic_sign_iou</td><td>7e-05</td></tr><tr><td>train_loss</td><td>0.17635</td></tr><tr><td>train_samples_per_sec</td><td>41.18946</td></tr><tr><td>valid_loss</td><td>0.22661</td></tr><tr><td>vehicle_iou</td><td>0.75055</td></tr><tr><td>wd_0</td><td>0.01</td></tr><tr><td>wd_1</td><td>0.01</td></tr><tr><td>wd_2</td><td>0.01</td></tr></table><br/></div></div>"
      ],
      "text/plain": [
       "<IPython.core.display.HTML object>"
      ]
     },
     "metadata": {},
     "output_type": "display_data"
    },
    {
     "data": {
      "text/html": [
       " View run <strong style=\"color:#cdcd00\">sleek-valley-5</strong> at: <a href='https://wandb.ai/sudomaze/mlops-course-001/runs/ktelieuk' target=\"_blank\">https://wandb.ai/sudomaze/mlops-course-001/runs/ktelieuk</a><br/>Synced 7 W&B file(s), 1 media file(s), 302 artifact file(s) and 0 other file(s)"
      ],
      "text/plain": [
       "<IPython.core.display.HTML object>"
      ]
     },
     "metadata": {},
     "output_type": "display_data"
    },
    {
     "data": {
      "text/html": [
       "Find logs at: <code>./wandb/run-20230426_225920-ktelieuk/logs</code>"
      ],
      "text/plain": [
       "<IPython.core.display.HTML object>"
      ]
     },
     "metadata": {},
     "output_type": "display_data"
    }
   ],
   "source": [
    "train(train_config)"
   ]
  }
 ],
 "metadata": {
  "kernelspec": {
   "display_name": "Python 3.10.6 64-bit",
   "language": "python",
   "name": "python3"
  },
  "language_info": {
   "codemirror_mode": {
    "name": "ipython",
    "version": 3
   },
   "file_extension": ".py",
   "mimetype": "text/x-python",
   "name": "python",
   "nbconvert_exporter": "python",
   "pygments_lexer": "ipython3",
   "version": "3.9.13"
  }
 },
 "nbformat": 4,
 "nbformat_minor": 5
}
